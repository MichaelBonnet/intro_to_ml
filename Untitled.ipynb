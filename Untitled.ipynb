{
 "cells": [
  {
   "cell_type": "markdown",
   "id": "632d9edb-7b7b-4fd0-85be-90a43514057d",
   "metadata": {},
   "source": [
    "Code checking and dataset filepaths"
   ]
  },
  {
   "cell_type": "code",
   "execution_count": null,
   "id": "71768822-b878-49d6-8421-6006417a16c4",
   "metadata": {},
   "outputs": [],
   "source": [
    "# Set up code checking\n",
    "from learntools.core import binder\n",
    "binder.bind(globals())\n",
    "from learntools.machine_learning.ex7 import *\n",
    "\n",
    "# Set up filepaths\n",
    "import os\n",
    "if not os.path.exists(\"../input/train.csv\"):\n",
    "    os.symlink(\"../input/home-data-for-ml-course/train.csv\", \"../input/train.csv\")  \n",
    "    os.symlink(\"../input/home-data-for-ml-course/test.csv\", \"../input/test.csv\") "
   ]
  }
 ],
 "metadata": {
  "kernelspec": {
   "display_name": "datasci-env",
   "language": "python",
   "name": "datasci-env"
  },
  "language_info": {
   "codemirror_mode": {
    "name": "ipython",
    "version": 3
   },
   "file_extension": ".py",
   "mimetype": "text/x-python",
   "name": "python",
   "nbconvert_exporter": "python",
   "pygments_lexer": "ipython3",
   "version": "3.9.7"
  }
 },
 "nbformat": 4,
 "nbformat_minor": 5
}
